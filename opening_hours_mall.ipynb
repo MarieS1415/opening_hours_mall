{
 "cells": [
  {
   "cell_type": "code",
   "execution_count": 21,
   "metadata": {},
   "outputs": [],
   "source": [
    "import sys\n",
    "import numpy as np\n",
    "import pandas\n",
    "import datetime\n",
    "from datetime import timedelta\n",
    "import matplotlib.pyplot as plt"
   ]
  },
  {
   "cell_type": "code",
   "execution_count": 29,
   "metadata": {},
   "outputs": [],
   "source": [
    "#prepare data\n",
    "df=pandas.read_csv(\"study_centers_201909.csv\")\n",
    "df[\"weekday\"]=df[\"device_local_date\"].apply(lambda x: datetime.datetime.strptime(x, '%Y-%m-%d %H:%M:%S.%f').weekday())\n",
    "df[\"time\"]=df[\"device_local_date\"].apply(lambda x: datetime.datetime.strptime(x, '%Y-%m-%d %H:%M:%S.%f').time())\n",
    "df[\"int_time\"]=df[\"time\"].apply(lambda x: x.hour*60+x.minute)"
   ]
  },
  {
   "cell_type": "code",
   "execution_count": 23,
   "metadata": {},
   "outputs": [],
   "source": [
    "shopping_center_ids=pandas.unique(df[\"shopping_center_id\"])"
   ]
  },
  {
   "cell_type": "code",
   "execution_count": 45,
   "metadata": {
    "scrolled": false
   },
   "outputs": [],
   "source": [
    "#define histogram by each half an hour\n",
    "def hist_by_center_by_day(i,j):\n",
    "    df_by_center_by_day=df.loc[(df['shopping_center_id']==shopping_center_ids[i])&(df[\"weekday\"]==j)]\n",
    "    fig = plt.figure(figsize=[12,7])\n",
    "    ax = fig.add_subplot(1, 1, 1)\n",
    "    plt.hist(df_by_center_by_day[\"int_time\"], bins=48)\n",
    "    grid_x_ticks_minor = np.arange(0, 24*60+1, 30)\n",
    "    grid_x_ticks_major = np.arange(0, 24*60+1, 120)\n",
    "    ax.set_xticks(grid_x_ticks_minor, minor=True)\n",
    "    ax.set_xticks(grid_x_ticks_major)\n",
    "    ax.grid(which='both')\n",
    "    ax.grid(which='minor', alpha=0.5, linestyle='--')\n",
    "    title=\"Center_\"+shopping_center_ids[i]+\"_for_day_\"+str(j)\n",
    "    plt.title(\"Histogram for \"+title, fontsize=12)\n",
    "    plt.savefig(title+\".png\", bbox_inches='tight')\n",
    "    plt.close('all')"
   ]
  },
  {
   "cell_type": "code",
   "execution_count": 46,
   "metadata": {},
   "outputs": [],
   "source": [
    "#print and save all the figures\n",
    "for i in range(0,4):\n",
    "    for j in range(0,7):\n",
    "        hist_by_center_by_day(i,j)"
   ]
  },
  {
   "cell_type": "code",
   "execution_count": null,
   "metadata": {},
   "outputs": [],
   "source": []
  }
 ],
 "metadata": {
  "kernelspec": {
   "display_name": "Python 3",
   "language": "python",
   "name": "python3"
  },
  "language_info": {
   "codemirror_mode": {
    "name": "ipython",
    "version": 3
   },
   "file_extension": ".py",
   "mimetype": "text/x-python",
   "name": "python",
   "nbconvert_exporter": "python",
   "pygments_lexer": "ipython3",
   "version": "3.7.3"
  }
 },
 "nbformat": 4,
 "nbformat_minor": 2
}
