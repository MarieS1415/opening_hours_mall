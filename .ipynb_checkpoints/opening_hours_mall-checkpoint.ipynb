{
 "cells": [
  {
   "cell_type": "code",
   "execution_count": 1,
   "metadata": {},
   "outputs": [],
   "source": [
    "import sys"
   ]
  },
  {
   "cell_type": "code",
   "execution_count": 2,
   "metadata": {},
   "outputs": [],
   "source": [
    "import pandas"
   ]
  },
  {
   "cell_type": "code",
   "execution_count": 3,
   "metadata": {},
   "outputs": [],
   "source": [
    "import datetime"
   ]
  },
  {
   "cell_type": "code",
   "execution_count": 4,
   "metadata": {},
   "outputs": [],
   "source": [
    "import matplotlib"
   ]
  },
  {
   "cell_type": "code",
   "execution_count": 5,
   "metadata": {},
   "outputs": [],
   "source": [
    "df=pandas.read_csv(\"study_centers_201909.csv\")"
   ]
  },
  {
   "cell_type": "code",
   "execution_count": 6,
   "metadata": {},
   "outputs": [],
   "source": [
    "df[\"weekday\"]=df[\"device_local_date\"].apply(lambda x: datetime.datetime.strptime(x, '%Y-%m-%d %H:%M:%S.%f').weekday())"
   ]
  },
  {
   "cell_type": "code",
   "execution_count": 7,
   "metadata": {},
   "outputs": [],
   "source": [
    "df[\"hour\"]=df[\"device_local_date\"].apply(lambda x: datetime.datetime.strptime(x, '%Y-%m-%d %H:%M:%S.%f').hour)"
   ]
  },
  {
   "cell_type": "code",
   "execution_count": 8,
   "metadata": {},
   "outputs": [],
   "source": [
    "shopping_center_ids=pandas.unique(df[\"shopping_center_id\"])"
   ]
  },
  {
   "cell_type": "code",
   "execution_count": 9,
   "metadata": {},
   "outputs": [
    {
     "data": {
      "text/plain": [
       "'599cb959-11ef-49aa-9eb3-e6c17b4ea6ba'"
      ]
     },
     "execution_count": 9,
     "metadata": {},
     "output_type": "execute_result"
    }
   ],
   "source": [
    "shopping_center_ids[1]"
   ]
  },
  {
   "cell_type": "code",
   "execution_count": 10,
   "metadata": {},
   "outputs": [],
   "source": [
    "df_by_center1_1=df.loc[(df['shopping_center_id']==shopping_center_ids[1])&(df[\"weekday\"]==1)]"
   ]
  },
  {
   "cell_type": "code",
   "execution_count": 11,
   "metadata": {},
   "outputs": [
    {
     "data": {
      "text/html": [
       "<div>\n",
       "<style scoped>\n",
       "    .dataframe tbody tr th:only-of-type {\n",
       "        vertical-align: middle;\n",
       "    }\n",
       "\n",
       "    .dataframe tbody tr th {\n",
       "        vertical-align: top;\n",
       "    }\n",
       "\n",
       "    .dataframe thead th {\n",
       "        text-align: right;\n",
       "    }\n",
       "</style>\n",
       "<table border=\"1\" class=\"dataframe\">\n",
       "  <thead>\n",
       "    <tr style=\"text-align: right;\">\n",
       "      <th></th>\n",
       "      <th>shopping_center_id</th>\n",
       "      <th>device_local_date</th>\n",
       "      <th>device_hash_id</th>\n",
       "      <th>weekday</th>\n",
       "      <th>hour</th>\n",
       "    </tr>\n",
       "  </thead>\n",
       "  <tbody>\n",
       "    <tr>\n",
       "      <td>23</td>\n",
       "      <td>599cb959-11ef-49aa-9eb3-e6c17b4ea6ba</td>\n",
       "      <td>2019-09-10 14:03:23.000</td>\n",
       "      <td>c502161d13</td>\n",
       "      <td>1</td>\n",
       "      <td>14</td>\n",
       "    </tr>\n",
       "    <tr>\n",
       "      <td>24</td>\n",
       "      <td>599cb959-11ef-49aa-9eb3-e6c17b4ea6ba</td>\n",
       "      <td>2019-09-10 20:58:09.000</td>\n",
       "      <td>c0d915dfc1</td>\n",
       "      <td>1</td>\n",
       "      <td>20</td>\n",
       "    </tr>\n",
       "    <tr>\n",
       "      <td>25</td>\n",
       "      <td>599cb959-11ef-49aa-9eb3-e6c17b4ea6ba</td>\n",
       "      <td>2019-09-10 14:16:51.000</td>\n",
       "      <td>43cc831f04</td>\n",
       "      <td>1</td>\n",
       "      <td>14</td>\n",
       "    </tr>\n",
       "    <tr>\n",
       "      <td>34</td>\n",
       "      <td>599cb959-11ef-49aa-9eb3-e6c17b4ea6ba</td>\n",
       "      <td>2019-09-17 10:54:35.000</td>\n",
       "      <td>0b4ae959d9</td>\n",
       "      <td>1</td>\n",
       "      <td>10</td>\n",
       "    </tr>\n",
       "    <tr>\n",
       "      <td>35</td>\n",
       "      <td>599cb959-11ef-49aa-9eb3-e6c17b4ea6ba</td>\n",
       "      <td>2019-09-17 19:24:04.000</td>\n",
       "      <td>c0d915dfc1</td>\n",
       "      <td>1</td>\n",
       "      <td>19</td>\n",
       "    </tr>\n",
       "    <tr>\n",
       "      <td>...</td>\n",
       "      <td>...</td>\n",
       "      <td>...</td>\n",
       "      <td>...</td>\n",
       "      <td>...</td>\n",
       "      <td>...</td>\n",
       "    </tr>\n",
       "    <tr>\n",
       "      <td>81305</td>\n",
       "      <td>599cb959-11ef-49aa-9eb3-e6c17b4ea6ba</td>\n",
       "      <td>2019-09-03 15:54:29.000</td>\n",
       "      <td>bf9b30620f</td>\n",
       "      <td>1</td>\n",
       "      <td>15</td>\n",
       "    </tr>\n",
       "    <tr>\n",
       "      <td>81306</td>\n",
       "      <td>599cb959-11ef-49aa-9eb3-e6c17b4ea6ba</td>\n",
       "      <td>2019-09-03 20:18:21.000</td>\n",
       "      <td>c0d915dfc1</td>\n",
       "      <td>1</td>\n",
       "      <td>20</td>\n",
       "    </tr>\n",
       "    <tr>\n",
       "      <td>81308</td>\n",
       "      <td>599cb959-11ef-49aa-9eb3-e6c17b4ea6ba</td>\n",
       "      <td>2019-09-03 12:21:13.000</td>\n",
       "      <td>5088521a1b</td>\n",
       "      <td>1</td>\n",
       "      <td>12</td>\n",
       "    </tr>\n",
       "    <tr>\n",
       "      <td>81310</td>\n",
       "      <td>599cb959-11ef-49aa-9eb3-e6c17b4ea6ba</td>\n",
       "      <td>2019-09-03 10:38:43.000</td>\n",
       "      <td>8ba90501ec</td>\n",
       "      <td>1</td>\n",
       "      <td>10</td>\n",
       "    </tr>\n",
       "    <tr>\n",
       "      <td>81653</td>\n",
       "      <td>599cb959-11ef-49aa-9eb3-e6c17b4ea6ba</td>\n",
       "      <td>2019-09-03 06:07:20.000</td>\n",
       "      <td>1696baed4b</td>\n",
       "      <td>1</td>\n",
       "      <td>6</td>\n",
       "    </tr>\n",
       "  </tbody>\n",
       "</table>\n",
       "<p>8426 rows × 5 columns</p>\n",
       "</div>"
      ],
      "text/plain": [
       "                         shopping_center_id        device_local_date  \\\n",
       "23     599cb959-11ef-49aa-9eb3-e6c17b4ea6ba  2019-09-10 14:03:23.000   \n",
       "24     599cb959-11ef-49aa-9eb3-e6c17b4ea6ba  2019-09-10 20:58:09.000   \n",
       "25     599cb959-11ef-49aa-9eb3-e6c17b4ea6ba  2019-09-10 14:16:51.000   \n",
       "34     599cb959-11ef-49aa-9eb3-e6c17b4ea6ba  2019-09-17 10:54:35.000   \n",
       "35     599cb959-11ef-49aa-9eb3-e6c17b4ea6ba  2019-09-17 19:24:04.000   \n",
       "...                                     ...                      ...   \n",
       "81305  599cb959-11ef-49aa-9eb3-e6c17b4ea6ba  2019-09-03 15:54:29.000   \n",
       "81306  599cb959-11ef-49aa-9eb3-e6c17b4ea6ba  2019-09-03 20:18:21.000   \n",
       "81308  599cb959-11ef-49aa-9eb3-e6c17b4ea6ba  2019-09-03 12:21:13.000   \n",
       "81310  599cb959-11ef-49aa-9eb3-e6c17b4ea6ba  2019-09-03 10:38:43.000   \n",
       "81653  599cb959-11ef-49aa-9eb3-e6c17b4ea6ba  2019-09-03 06:07:20.000   \n",
       "\n",
       "      device_hash_id  weekday  hour  \n",
       "23        c502161d13        1    14  \n",
       "24        c0d915dfc1        1    20  \n",
       "25        43cc831f04        1    14  \n",
       "34        0b4ae959d9        1    10  \n",
       "35        c0d915dfc1        1    19  \n",
       "...              ...      ...   ...  \n",
       "81305     bf9b30620f        1    15  \n",
       "81306     c0d915dfc1        1    20  \n",
       "81308     5088521a1b        1    12  \n",
       "81310     8ba90501ec        1    10  \n",
       "81653     1696baed4b        1     6  \n",
       "\n",
       "[8426 rows x 5 columns]"
      ]
     },
     "execution_count": 11,
     "metadata": {},
     "output_type": "execute_result"
    }
   ],
   "source": [
    "df_by_center1_1"
   ]
  },
  {
   "cell_type": "code",
   "execution_count": 12,
   "metadata": {},
   "outputs": [
    {
     "data": {
      "text/plain": [
       "<matplotlib.axes._subplots.AxesSubplot at 0x7f22d7e71860>"
      ]
     },
     "execution_count": 12,
     "metadata": {},
     "output_type": "execute_result"
    }
   ],
   "source": [
    "df_by_center1_1[\"hour\"].hist()"
   ]
  },
  {
   "cell_type": "code",
   "execution_count": null,
   "metadata": {},
   "outputs": [],
   "source": []
  },
  {
   "cell_type": "code",
   "execution_count": null,
   "metadata": {},
   "outputs": [],
   "source": []
  }
 ],
 "metadata": {
  "kernelspec": {
   "display_name": "Python 3",
   "language": "python",
   "name": "python3"
  },
  "language_info": {
   "codemirror_mode": {
    "name": "ipython",
    "version": 3
   },
   "file_extension": ".py",
   "mimetype": "text/x-python",
   "name": "python",
   "nbconvert_exporter": "python",
   "pygments_lexer": "ipython3",
   "version": "3.7.3"
  }
 },
 "nbformat": 4,
 "nbformat_minor": 2
}
