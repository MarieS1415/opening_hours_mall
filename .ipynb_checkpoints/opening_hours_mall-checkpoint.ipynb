{
 "cells": [
  {
   "cell_type": "code",
   "execution_count": 21,
   "metadata": {},
   "outputs": [],
   "source": [
    "import sys\n",
    "import numpy as np\n",
    "import pandas\n",
    "import datetime\n",
    "from datetime import timedelta\n",
    "import matplotlib.pyplot as plt"
   ]
  },
  {
   "cell_type": "code",
   "execution_count": 29,
   "metadata": {},
   "outputs": [],
   "source": [
    "#prepare data\n",
    "df=pandas.read_csv(\"study_centers_201909.csv\")\n",
    "df[\"weekday\"]=df[\"device_local_date\"].apply(lambda x: datetime.datetime.strptime(x, '%Y-%m-%d %H:%M:%S.%f').weekday())\n",
    "df[\"time\"]=df[\"device_local_date\"].apply(lambda x: datetime.datetime.strptime(x, '%Y-%m-%d %H:%M:%S.%f').time())\n",
    "df[\"int_time\"]=df[\"time\"].apply(lambda x: x.hour*60+x.minute)"
   ]
  },
  {
   "cell_type": "code",
   "execution_count": 23,
   "metadata": {},
   "outputs": [],
   "source": [
    "shopping_center_ids=pandas.unique(df[\"shopping_center_id\"])"
   ]
  },
  {
   "cell_type": "code",
   "execution_count": 31,
   "metadata": {
    "scrolled": false
   },
   "outputs": [],
   "source": [
    "#define histogram by each half an hour\n",
    "def hist_by_center_by_day(i,j):\n",
    "    df_by_center_by_day=df.loc[(df['shopping_center_id']==shopping_center_ids[i])&(df[\"weekday\"]==j)]\n",
    "    fig = plt.figure(figsize=[12,7])\n",
    "    ax = fig.add_subplot(1, 1, 1)\n",
    "    plt.hist(df_by_center_by_day[\"int_time\"], bins=48)\n",
    "    grid_x_ticks = np.arange(0, 24*60+1, 30)\n",
    "    ax.set_xticks(grid_x_ticks , minor=True)\n",
    "    ax.grid(which='both')\n",
    "    ax.grid(which='minor', alpha=0.2, linestyle='--')\n",
    "    title=\"Center_\"+shopping_center_ids[i]+\"_for_day_\"+str(j)\n",
    "    plt.title(\"Histogram for \"+title, fontsize=12)\n",
    "    plt.savefig(title+\".png\", bbox_inches='tight')\n",
    "    plt.close('all')"
   ]
  },
  {
   "cell_type": "code",
   "execution_count": null,
   "metadata": {},
   "outputs": [],
   "source": [
    "#print and save all the figures\n",
    "for i in range(0,4):\n",
    "    for j in range(0,7):\n",
    "        hist_by_center_by_day(i,j)"
   ]
  },
  {
   "cell_type": "code",
   "execution_count": 19,
   "metadata": {},
   "outputs": [
    {
     "data": {
      "text/plain": [
       "datetime.datetime(1, 1, 3, 3, 15)"
      ]
     },
     "execution_count": 19,
     "metadata": {},
     "output_type": "execute_result"
    }
   ],
   "source": [
    "datetime.datetime.min+timedelta(days=2,\n",
    "                    hours=3,\n",
    "                    minutes=15)"
   ]
  },
  {
   "cell_type": "code",
   "execution_count": 25,
   "metadata": {},
   "outputs": [
    {
     "ename": "TypeError",
     "evalue": "int() argument must be a string, a bytes-like object or a number, not 'datetime.time'",
     "output_type": "error",
     "traceback": [
      "\u001b[0;31m---------------------------------------------------------------------------\u001b[0m",
      "\u001b[0;31mTypeError\u001b[0m                                 Traceback (most recent call last)",
      "\u001b[0;32m<ipython-input-25-9a55ab048462>\u001b[0m in \u001b[0;36m<module>\u001b[0;34m\u001b[0m\n\u001b[0;32m----> 1\u001b[0;31m \u001b[0mint\u001b[0m\u001b[0;34m(\u001b[0m\u001b[0mdf\u001b[0m\u001b[0;34m[\u001b[0m\u001b[0;34m\"time\"\u001b[0m\u001b[0;34m]\u001b[0m\u001b[0;34m[\u001b[0m\u001b[0;36m1\u001b[0m\u001b[0;34m]\u001b[0m\u001b[0;34m)\u001b[0m\u001b[0;34m\u001b[0m\u001b[0;34m\u001b[0m\u001b[0m\n\u001b[0m",
      "\u001b[0;31mTypeError\u001b[0m: int() argument must be a string, a bytes-like object or a number, not 'datetime.time'"
     ]
    }
   ],
   "source": []
  },
  {
   "cell_type": "code",
   "execution_count": 30,
   "metadata": {},
   "outputs": [
    {
     "data": {
      "text/plain": [
       "0         600\n",
       "1        1033\n",
       "2         547\n",
       "3        1034\n",
       "4         617\n",
       "         ... \n",
       "81833    1085\n",
       "81834    1126\n",
       "81835     852\n",
       "81836     930\n",
       "81837    1233\n",
       "Name: int_time, Length: 81838, dtype: int64"
      ]
     },
     "execution_count": 30,
     "metadata": {},
     "output_type": "execute_result"
    }
   ],
   "source": []
  },
  {
   "cell_type": "code",
   "execution_count": null,
   "metadata": {},
   "outputs": [],
   "source": []
  }
 ],
 "metadata": {
  "kernelspec": {
   "display_name": "Python 3",
   "language": "python",
   "name": "python3"
  },
  "language_info": {
   "codemirror_mode": {
    "name": "ipython",
    "version": 3
   },
   "file_extension": ".py",
   "mimetype": "text/x-python",
   "name": "python",
   "nbconvert_exporter": "python",
   "pygments_lexer": "ipython3",
   "version": "3.7.3"
  }
 },
 "nbformat": 4,
 "nbformat_minor": 2
}
